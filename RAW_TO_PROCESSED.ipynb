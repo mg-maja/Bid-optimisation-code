{
 "cells": [
  {
   "cell_type": "code",
   "execution_count": 1,
   "metadata": {},
   "outputs": [],
   "source": [
    "import pandas as pd\n",
    "from IPython.display import display\n",
    "pd.set_option('display.max_columns',None)"
   ]
  },
  {
   "cell_type": "code",
   "execution_count": 2,
   "metadata": {},
   "outputs": [],
   "source": [
    "# import statsmodels.api as sm\n",
    "from statsmodels.formula.api import ols\n",
    "%matplotlib inline\n",
    "from matplotlib.pylab import rcParams\n",
    "from sklearn.metrics import mean_squared_error\n",
    "import matplotlib.pyplot as plt\n",
    "from math import sqrt"
   ]
  },
  {
   "cell_type": "code",
   "execution_count": null,
   "metadata": {
    "scrolled": true
   },
   "outputs": [],
   "source": [
    "pd.read_csv('../Data/adwords_keyword_account_position_20180418092434.csv',sep='|',nrows=10)"
   ]
  },
  {
   "cell_type": "code",
   "execution_count": 3,
   "metadata": {},
   "outputs": [
    {
     "name": "stderr",
     "output_type": "stream",
     "text": [
      "/home/amit/anaconda3/lib/python3.6/site-packages/IPython/core/interactiveshell.py:2728: DtypeWarning: Columns (7,10,12,19) have mixed types. Specify dtype option on import or set low_memory=False.\n",
      "  interactivity=interactivity, compiler=compiler, result=result)\n"
     ]
    }
   ],
   "source": [
    "df = pd.read_csv('../Data/adwords_keyword_account_position_20180418092434.csv',sep='|',\n",
    "                 usecols=['_date', 'account', 'keyword', 'adgroup', 'device_type', 'sessions', 'cost', 'cpc', 'reatrr_bookings','conversion', 'reattr_margin', 'roi', 'reattr_net', 'averageposition', 'impressions', \n",
    "                'max_cpc','search_impression_share'])"
   ]
  },
  {
   "cell_type": "code",
   "execution_count": 4,
   "metadata": {},
   "outputs": [],
   "source": [
    "# Some cases have \\N instead of numeric values, replace with 0\n",
    "df = df.replace(r'\\\\N','0', regex=True)\n",
    "# About 68 cases have a max_cpc in percentage points, its unusual in comparison to other cases. set to zero\n",
    "df.loc[df['max_cpc'].astype(str).str.contains('%'),'max_cpc'] = '0'"
   ]
  },
  {
   "cell_type": "code",
   "execution_count": 5,
   "metadata": {},
   "outputs": [],
   "source": [
    "df['_date'] = pd.to_datetime(df['_date'])\n",
    "# Column in percentages - delete the % symbol\n",
    "df['max_cpc'] = df['max_cpc'].astype(str).str.rstrip('%')\n",
    "df['search_impression_share'] = df['search_impression_share'].astype(str).str.rstrip('%')\n",
    "df['search_impression_share'] = df['search_impression_share'].astype(str).str.lstrip('< ')"
   ]
  },
  {
   "cell_type": "code",
   "execution_count": 6,
   "metadata": {},
   "outputs": [
    {
     "name": "stdout",
     "output_type": "stream",
     "text": [
      "sessions\n",
      "cost\n",
      "cpc\n",
      "reatrr_bookings\n",
      "conversion\n",
      "reattr_margin\n",
      "roi\n",
      "reattr_net\n",
      "averageposition\n",
      "impressions\n",
      "max_cpc\n",
      "search_impression_share\n"
     ]
    },
    {
     "data": {
      "text/plain": [
       "_date                      datetime64[ns]\n",
       "account                            object\n",
       "adgroup                            object\n",
       "keyword                            object\n",
       "device_type                        object\n",
       "sessions                          float64\n",
       "cost                              float64\n",
       "cpc                               float64\n",
       "reatrr_bookings                   float64\n",
       "conversion                        float64\n",
       "reattr_margin                     float64\n",
       "roi                               float64\n",
       "reattr_net                        float64\n",
       "averageposition                   float64\n",
       "impressions                       float64\n",
       "max_cpc                           float64\n",
       "search_impression_share           float64\n",
       "dtype: object"
      ]
     },
     "execution_count": 6,
     "metadata": {},
     "output_type": "execute_result"
    }
   ],
   "source": [
    "for col in df.columns.tolist()[5:]:\n",
    "    print (col)\n",
    "    df[col] = df[col].astype(str).str.strip()\n",
    "    df[col] = df[col].astype(float)\n",
    "df.dtypes"
   ]
  },
  {
   "cell_type": "code",
   "execution_count": 7,
   "metadata": {},
   "outputs": [
    {
     "data": {
      "text/html": [
       "<div>\n",
       "<style scoped>\n",
       "    .dataframe tbody tr th:only-of-type {\n",
       "        vertical-align: middle;\n",
       "    }\n",
       "\n",
       "    .dataframe tbody tr th {\n",
       "        vertical-align: top;\n",
       "    }\n",
       "\n",
       "    .dataframe thead th {\n",
       "        text-align: right;\n",
       "    }\n",
       "</style>\n",
       "<table border=\"1\" class=\"dataframe\">\n",
       "  <thead>\n",
       "    <tr style=\"text-align: right;\">\n",
       "      <th></th>\n",
       "      <th>_date</th>\n",
       "      <th>account</th>\n",
       "      <th>adgroup</th>\n",
       "      <th>keyword</th>\n",
       "      <th>device_type</th>\n",
       "      <th>sessions</th>\n",
       "      <th>cost</th>\n",
       "      <th>cpc</th>\n",
       "      <th>reatrr_bookings</th>\n",
       "      <th>conversion</th>\n",
       "      <th>reattr_margin</th>\n",
       "      <th>roi</th>\n",
       "      <th>reattr_net</th>\n",
       "      <th>averageposition</th>\n",
       "      <th>impressions</th>\n",
       "      <th>max_cpc</th>\n",
       "      <th>search_impression_share</th>\n",
       "    </tr>\n",
       "  </thead>\n",
       "  <tbody>\n",
       "    <tr>\n",
       "      <th>0</th>\n",
       "      <td>2017-09-21</td>\n",
       "      <td>Brand</td>\n",
       "      <td>Brand_GEN_All Inclusive_Exact</td>\n",
       "      <td>love holidays all inclusive</td>\n",
       "      <td>Desktop</td>\n",
       "      <td>9.0</td>\n",
       "      <td>1.64</td>\n",
       "      <td>0.182222</td>\n",
       "      <td>0.0</td>\n",
       "      <td>0.0</td>\n",
       "      <td>0.0</td>\n",
       "      <td>0.0</td>\n",
       "      <td>-1.64</td>\n",
       "      <td>1.0</td>\n",
       "      <td>15.0</td>\n",
       "      <td>0.40</td>\n",
       "      <td>88.24</td>\n",
       "    </tr>\n",
       "    <tr>\n",
       "      <th>1</th>\n",
       "      <td>2017-09-21</td>\n",
       "      <td>Brand</td>\n",
       "      <td>Brand_GEN_Late Deals_Exact</td>\n",
       "      <td>love holidays late deals</td>\n",
       "      <td>Desktop</td>\n",
       "      <td>4.0</td>\n",
       "      <td>0.86</td>\n",
       "      <td>0.215000</td>\n",
       "      <td>0.0</td>\n",
       "      <td>0.0</td>\n",
       "      <td>0.0</td>\n",
       "      <td>0.0</td>\n",
       "      <td>-0.86</td>\n",
       "      <td>1.0</td>\n",
       "      <td>7.0</td>\n",
       "      <td>0.70</td>\n",
       "      <td>100.00</td>\n",
       "    </tr>\n",
       "    <tr>\n",
       "      <th>2</th>\n",
       "      <td>2017-09-21</td>\n",
       "      <td>Brand</td>\n",
       "      <td>Brand_GEN_Villa_Exact</td>\n",
       "      <td>love holidays villas</td>\n",
       "      <td>Desktop</td>\n",
       "      <td>2.0</td>\n",
       "      <td>0.40</td>\n",
       "      <td>0.200000</td>\n",
       "      <td>0.0</td>\n",
       "      <td>0.0</td>\n",
       "      <td>0.0</td>\n",
       "      <td>0.0</td>\n",
       "      <td>-0.40</td>\n",
       "      <td>1.7</td>\n",
       "      <td>3.0</td>\n",
       "      <td>0.30</td>\n",
       "      <td>75.00</td>\n",
       "    </tr>\n",
       "    <tr>\n",
       "      <th>3</th>\n",
       "      <td>2017-09-21</td>\n",
       "      <td>Brand</td>\n",
       "      <td>Brand_DL2_Turkey___Exact</td>\n",
       "      <td>love holidays turkey</td>\n",
       "      <td>Desktop</td>\n",
       "      <td>3.0</td>\n",
       "      <td>0.15</td>\n",
       "      <td>0.050000</td>\n",
       "      <td>0.0</td>\n",
       "      <td>0.0</td>\n",
       "      <td>0.0</td>\n",
       "      <td>0.0</td>\n",
       "      <td>-0.15</td>\n",
       "      <td>1.0</td>\n",
       "      <td>3.0</td>\n",
       "      <td>0.15</td>\n",
       "      <td>100.00</td>\n",
       "    </tr>\n",
       "    <tr>\n",
       "      <th>4</th>\n",
       "      <td>2017-09-21</td>\n",
       "      <td>Brand</td>\n",
       "      <td>Brand_REG_Canary Islands_Gran Canaria__Exact</td>\n",
       "      <td>love holidays gran canaria</td>\n",
       "      <td>Desktop</td>\n",
       "      <td>1.0</td>\n",
       "      <td>0.22</td>\n",
       "      <td>0.220000</td>\n",
       "      <td>0.0</td>\n",
       "      <td>0.0</td>\n",
       "      <td>0.0</td>\n",
       "      <td>0.0</td>\n",
       "      <td>-0.22</td>\n",
       "      <td>1.0</td>\n",
       "      <td>2.0</td>\n",
       "      <td>0.80</td>\n",
       "      <td>100.00</td>\n",
       "    </tr>\n",
       "  </tbody>\n",
       "</table>\n",
       "</div>"
      ],
      "text/plain": [
       "       _date account                                       adgroup  \\\n",
       "0 2017-09-21   Brand                 Brand_GEN_All Inclusive_Exact   \n",
       "1 2017-09-21   Brand                    Brand_GEN_Late Deals_Exact   \n",
       "2 2017-09-21   Brand                         Brand_GEN_Villa_Exact   \n",
       "3 2017-09-21   Brand                      Brand_DL2_Turkey___Exact   \n",
       "4 2017-09-21   Brand  Brand_REG_Canary Islands_Gran Canaria__Exact   \n",
       "\n",
       "                       keyword device_type  sessions  cost       cpc  \\\n",
       "0  love holidays all inclusive     Desktop       9.0  1.64  0.182222   \n",
       "1     love holidays late deals     Desktop       4.0  0.86  0.215000   \n",
       "2         love holidays villas     Desktop       2.0  0.40  0.200000   \n",
       "3         love holidays turkey     Desktop       3.0  0.15  0.050000   \n",
       "4   love holidays gran canaria     Desktop       1.0  0.22  0.220000   \n",
       "\n",
       "   reatrr_bookings  conversion  reattr_margin  roi  reattr_net  \\\n",
       "0              0.0         0.0            0.0  0.0       -1.64   \n",
       "1              0.0         0.0            0.0  0.0       -0.86   \n",
       "2              0.0         0.0            0.0  0.0       -0.40   \n",
       "3              0.0         0.0            0.0  0.0       -0.15   \n",
       "4              0.0         0.0            0.0  0.0       -0.22   \n",
       "\n",
       "   averageposition  impressions  max_cpc  search_impression_share  \n",
       "0              1.0         15.0     0.40                    88.24  \n",
       "1              1.0          7.0     0.70                   100.00  \n",
       "2              1.7          3.0     0.30                    75.00  \n",
       "3              1.0          3.0     0.15                   100.00  \n",
       "4              1.0          2.0     0.80                   100.00  "
      ]
     },
     "execution_count": 7,
     "metadata": {},
     "output_type": "execute_result"
    }
   ],
   "source": [
    "df.head()"
   ]
  },
  {
   "cell_type": "code",
   "execution_count": 8,
   "metadata": {},
   "outputs": [],
   "source": [
    "df.to_csv('../Data/ADWORDS_KEYWORDS_PROCESSED.csv',index=False)"
   ]
  },
  {
   "cell_type": "code",
   "execution_count": null,
   "metadata": {},
   "outputs": [],
   "source": []
  }
 ],
 "metadata": {
  "kernelspec": {
   "display_name": "Python 3",
   "language": "python",
   "name": "python3"
  },
  "language_info": {
   "codemirror_mode": {
    "name": "ipython",
    "version": 3
   },
   "file_extension": ".py",
   "mimetype": "text/x-python",
   "name": "python",
   "nbconvert_exporter": "python",
   "pygments_lexer": "ipython3",
   "version": "3.6.4"
  }
 },
 "nbformat": 4,
 "nbformat_minor": 2
}
